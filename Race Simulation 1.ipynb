{
 "cells": [
  {
   "cell_type": "markdown",
   "id": "7d34a784",
   "metadata": {},
   "source": [
    "This is the first project to address the problem of simulating a motor race.\n",
    "\n",
    "In this project I will start with a simple model and use it to determine the optimum lap for a competitor to replace their tyres."
   ]
  },
  {
   "cell_type": "markdown",
   "id": "9df7e965",
   "metadata": {},
   "source": [
    "The assumptions of the model are:\n",
    "\n",
    "1. The aim is to complete the race in the shortest time.\n",
    "2. Lap time is affected by tyre wear and fuel load.\n",
    "3. Tyre wear is affected by fuel load. Tyre wear is higher when the car is heavier (has greater fuel load).\n",
    "4. Other competitors are ignored. Hence slower cars and overtaking are not considered.\n",
    "5. There will be one (and only one) pitstop to change tyres.\n",
    "6. The time lost during a pit stop is a constant (including slowing down, stop and getting up to speed). "
   ]
  },
  {
   "cell_type": "markdown",
   "id": "e1732eb5",
   "metadata": {},
   "source": [
    "Total race time is the sum of all the lap times plus the duration of a pitstop (which is assumed to be a constant).\n",
    "Lap time is affected by the current fuel load and the current tyre condition."
   ]
  },
  {
   "cell_type": "markdown",
   "id": "8c319d40",
   "metadata": {},
   "source": [
    "The variables are:\n",
    "\n",
    "race_time = the total race time for the competitor\n",
    "\n",
    "lap_time = the lap time for the current lap, a function of nominal_lap_time, fuel_factor and tyre_wear_factor\n",
    "\n",
    "tyre_wear = a cumulative measure of current tyre condition, a function of lap count and fuel_factor\n",
    "\n",
    "pit_lap = the lap on which the car stops for new tyres"
   ]
  },
  {
   "cell_type": "markdown",
   "id": "eae03e0c",
   "metadata": {},
   "source": [
    "The parameters are:\n",
    "\n",
    "N = total number of laps in the race\n",
    "\n",
    "nominal_lap_time = the theoretical lap time for a car with no fuel load and new tyres\n",
    "\n",
    "max_fuel_penalty = the proportional increase in lap time over the nominal_lap_time for a full fuel load\n",
    "\n",
    "max_tyre_life = the maximum number of laps a set of tyres will last\n",
    "\n",
    "fuel_factor = a function of N, current lap number (n) and max_fuel_penalty\n",
    "\n",
    "tyre_wear_factor = a function of N and current lap number (n)\n",
    "\n",
    "pitstop_time = the time spent in the pits at a stop\n"
   ]
  },
  {
   "cell_type": "code",
   "execution_count": 1,
   "id": "5d42f73c",
   "metadata": {},
   "outputs": [],
   "source": [
    "# import the required libraries\n",
    "import numpy as np\n",
    "import pandas as pd\n",
    "import matplotlib.pyplot as plt\n",
    "import seaborn as sns"
   ]
  },
  {
   "cell_type": "code",
   "execution_count": 5,
   "id": "6438dc76",
   "metadata": {},
   "outputs": [],
   "source": [
    "# define the parameters\n",
    "N = 40 ## the race has 40 laps\n",
    "nominal_lap_time = 120 ## the nominal lap time for a car is 120 seconds\n",
    "max_fuel_penalty = 0.1 ## a car with a full fuel load for the race distance is 10% slower than the nominal lap time\n",
    "max_tyre_life = 50 ## a set of tyres could theoretically last 50 laps\n",
    "pit_lap = 20 ## the car will stop on lap 20 for new tyres\n",
    "pitstop_time = 25 ## the pit stop will add 25 seconds to the lap_time / race_time"
   ]
  },
  {
   "cell_type": "code",
   "execution_count": 3,
   "id": "d29b3daa",
   "metadata": {},
   "outputs": [],
   "source": [
    "# define a function to calculate the fuel factor\n",
    "def calc_fuel_factor(N, n, max_fuel_penalty):\n",
    "    fuel_factor = 1 + (((N - n) / N) * max_fuel_penalty)\n",
    "    return fuel_factor"
   ]
  },
  {
   "cell_type": "code",
   "execution_count": 6,
   "id": "3aeedf23",
   "metadata": {},
   "outputs": [],
   "source": [
    "# investigate the fuel_factor\n",
    "fuel_factor_list = []\n",
    "\n",
    "for i in range(N):\n",
    "    fuel_factor = calc_fuel_factor(N, i, max_fuel_penalty)\n",
    "    fuel_factor_list.append(fuel_factor)"
   ]
  },
  {
   "cell_type": "code",
   "execution_count": 9,
   "id": "d2db8851",
   "metadata": {},
   "outputs": [
    {
     "data": {
      "image/png": "[encoded data removed]",
      "text/plain": [
       "<Figure size 864x576 with 1 Axes>"
      ]
     },
     "metadata": {
      "needs_background": "light"
     },
     "output_type": "display_data"
    }
   ],
   "source": [
    "# plot the fuel_factor for race duration\n",
    "tick_list = [1.12, 1.1, 1.08, 1.06, 1.04, 1.02, 1.0]\n",
    "\n",
    "plt.figure(figsize=(12, 8))\n",
    "\n",
    "plt.plot(range(N), fuel_factor_list)\n",
    "plt.axis([-1, 40, 0.99, 1.12])\n",
    "plt.xlabel('Lap Count')\n",
    "plt.ylabel('Fuel_Factor')\n",
    "plt.title('Fuel Factor over Race Duration')\n",
    "plt.xticks(range(N), range(N))\n",
    "plt.yticks(tick_list, tick_list)\n",
    "\n",
    "plt.show()"
   ]
  },
  {
   "cell_type": "markdown",
   "id": "9b9b7142",
   "metadata": {},
   "source": [
    "As can be seen the fuel_factor decreases at a constant rate as lap count increases."
   ]
  },
  {
   "cell_type": "code",
   "execution_count": 7,
   "id": "aa99d800",
   "metadata": {},
   "outputs": [],
   "source": [
    "# function replaced - tyre wear variable introduced\n",
    "# define a function to calculate the tyre_wear_factor\n",
    "# def calc_tyre_wear_factor(pit_lap, n, max_tyre_life):\n",
    "    \n",
    "    # calculate tyre_wear_factor for laps upto and including pit_lap\n",
    "    # if n <= pit_lap:\n",
    "        # tyre_wear_factor = 1 + (n / max_tyre_life) ** 2\n",
    "    \n",
    "    # calculate tyre_wear_factor for laps after pit lap\n",
    "    # else:\n",
    "        # tyre_wear_factor = 1 + ((n - (pit_lap + 1)) / max_tyre_life) ** 2\n",
    "    \n",
    "    # return tyre_wear_factor"
   ]
  },
  {
   "cell_type": "code",
   "execution_count": 52,
   "id": "43bfd25d",
   "metadata": {},
   "outputs": [],
   "source": [
    "# function replaced - tyre wear variable calculated in race_sim function\n",
    "# define an alternative function to calculate the tyre_wear_factor\n",
    "# def calc_tyre_wear_factor(pit_lap, N, n, max_tyre_life, max_fuel_penalty):\n",
    "    \n",
    "    # define tyre_wear\n",
    "    # tyre_wear = 0\n",
    "    \n",
    "    # calculate current tyre_wear for laps upto and including pit_lap\n",
    "    # if n <= pit_lap:\n",
    "    \n",
    "        # for i in range(n):\n",
    "            # tyre_wear += 1 + (((N - i) / N) * max_fuel_penalty)\n",
    "        \n",
    "    # calculate current tyre_wear for laps after pit lap\n",
    "    # else:\n",
    "        \n",
    "        # for i in range(n - (pit_lap + 1)):\n",
    "            # tyre_wear += 1 + (((N - (i + pit_lap + 1)) / N) * max_fuel_penalty)\n",
    "    \n",
    "    # calculate tyre_wear_factor\n",
    "    # tyre_wear_factor = 1 + (tyre_wear / max_tyre_life) ** 2\n",
    "    \n",
    "    # return tyre_wear_factor"
   ]
  },
  {
   "cell_type": "code",
   "execution_count": 10,
   "id": "c6166fb8",
   "metadata": {},
   "outputs": [],
   "source": [
    "# define an alternative function to calculate the tyre_wear_factor\n",
    "def calc_tyre_wear_factor(tyre_wear, max_tyre_life):\n",
    "    \n",
    "    # calculate tyre_wear_factor\n",
    "    tyre_wear_factor = 1 + (tyre_wear / max_tyre_life) ** 2\n",
    "    \n",
    "    return tyre_wear_factor"
   ]
  },
  {
   "cell_type": "code",
   "execution_count": 11,
   "id": "c2f070af",
   "metadata": {},
   "outputs": [],
   "source": [
    "# investigate the tyre_wear_factor\n",
    "\n",
    "# create list to store tyre_wear_factors\n",
    "tyre_wear_factor_list = []\n",
    "\n",
    "# define a tyre_wear variable\n",
    "# tyre_wear will be calculated and stored within the race_sim function\n",
    "tyre_wear = 0\n",
    "\n",
    "for i in range(N):\n",
    "    # allow for replacing tyres at pit stop\n",
    "    if i == (pit_lap + 1):\n",
    "        tyre_wear = 0\n",
    "        \n",
    "    # add to tyre_wear for each lap\n",
    "    else:\n",
    "        tyre_wear += fuel_factor_list[i]\n",
    "    tyre_wear_factor = calc_tyre_wear_factor(tyre_wear, max_tyre_life)\n",
    "    tyre_wear_factor_list.append(tyre_wear_factor)"
   ]
  },
  {
   "cell_type": "code",
   "execution_count": 12,
   "id": "105df0e6",
   "metadata": {},
   "outputs": [
    {
     "data": {
      "text/plain": [
       "[1.000484,\n",
       " 1.0019316025,\n",
       " 1.0043362225,\n",
       " 1.00769129,\n",
       " 1.01199025,\n",
       " 1.0172265625,\n",
       " 1.0233937025,\n",
       " 1.03048516,\n",
       " 1.03849444,\n",
       " 1.0474150625,\n",
       " 1.0572405625,\n",
       " 1.06796449,\n",
       " 1.07958041,\n",
       " 1.0920819025,\n",
       " 1.1054625625,\n",
       " 1.119716,\n",
       " 1.13483584,\n",
       " 1.1508157225,\n",
       " 1.1676493025,\n",
       " 1.18533025,\n",
       " 1.20385225,\n",
       " 1.0,\n",
       " 1.00043681,\n",
       " 1.0017430625,\n",
       " 1.0039125025,\n",
       " 1.00693889,\n",
       " 1.010816,\n",
       " 1.0155376225,\n",
       " 1.0210975625,\n",
       " 1.02748964,\n",
       " 1.03470769,\n",
       " 1.0427455625,\n",
       " 1.0515971225,\n",
       " 1.06125625,\n",
       " 1.0717168400000001,\n",
       " 1.0829728025,\n",
       " 1.0950180625000001,\n",
       " 1.10784656,\n",
       " 1.12145225,\n",
       " 1.1358291025]"
      ]
     },
     "execution_count": 12,
     "metadata": {},
     "output_type": "execute_result"
    }
   ],
   "source": [
    "tyre_wear_factor_list"
   ]
  },
  {
   "cell_type": "code",
   "execution_count": 13,
   "id": "96b9c9f1",
   "metadata": {},
   "outputs": [
    {
     "data": {
      "image/png": "[encoded data removed]",
      "text/plain": [
       "<Figure size 864x576 with 1 Axes>"
      ]
     },
     "metadata": {
      "needs_background": "light"
     },
     "output_type": "display_data"
    }
   ],
   "source": [
    "# plot the tyre_wear_factor over the duration of a race\n",
    "tick_list = [1.0, 1.05, 1.10, 1.15, 1.20, 1.25]\n",
    "\n",
    "plt.figure(figsize=(12, 8))\n",
    "\n",
    "plt.plot(range(N), tyre_wear_factor_list)\n",
    "plt.axis([-1, 40, 0.99, 1.25])\n",
    "plt.xlabel('Lap Count')\n",
    "plt.ylabel('tyre_wear_Factor')\n",
    "plt.title('Tyre Wear Factor over Race Duration')\n",
    "plt.xticks(range(N), range(N))\n",
    "plt.yticks(tick_list, tick_list)\n",
    "\n",
    "plt.show()"
   ]
  },
  {
   "cell_type": "markdown",
   "id": "6cf2123d",
   "metadata": {},
   "source": [
    "As can be seen tyre_wear_factor inreases as lap count increases, also the rate of increase is increasing. The tyre_wear_factor is reset at the pit stop lap. "
   ]
  },
  {
   "cell_type": "code",
   "execution_count": 31,
   "id": "395e0828",
   "metadata": {},
   "outputs": [],
   "source": [
    "# function replaced - tyre_wear variable introduced\n",
    "# define a function to simulate a race\n",
    "# def race(pit_lap, N, nominal_lap_time, max_fuel_penalty, max_tyre_life, pitstop_time):\n",
    "    \n",
    "    # set lap count\n",
    "    # n = 0\n",
    "    \n",
    "    # create list to store lap times\n",
    "    # lap_times = []\n",
    "    \n",
    "    # iterate for each lap until race complete\n",
    "    # while n < N:\n",
    "        \n",
    "        # calculate the current fuel_factor\n",
    "        # fuel_factor = calc_fuel_factor(N, n, max_fuel_penalty)\n",
    "        \n",
    "        # calculate the current tyre_wear_factor\n",
    "        # tyre_wear_factor = calc_tyre_wear_factor(pit_lap, N, n, max_tyre_life, max_fuel_penalty)\n",
    "        \n",
    "        # allow for pit stop\n",
    "        # if n == pit_lap:\n",
    "            # stop = pitstop_time\n",
    "        \n",
    "        # else:\n",
    "            # stop = 0\n",
    "        \n",
    "        # calculate lap time\n",
    "        # lap_time = (nominal_lap_time * fuel_factor * tyre_wear_factor) + stop\n",
    "        \n",
    "        # append lap time to list\n",
    "        # lap_times.append(lap_time)\n",
    "            \n",
    "        # increase lap count\n",
    "        # n += 1\n",
    "    \n",
    "    # return total lap time and lap_times\n",
    "    # return sum(lap_times), lap_times"
   ]
  },
  {
   "cell_type": "code",
   "execution_count": 14,
   "id": "755e04db",
   "metadata": {},
   "outputs": [],
   "source": [
    "# define an alternative function to simulate a race - incorporating tyre wear\n",
    "def race_sim(pit_lap, N, nominal_lap_time, max_fuel_penalty, max_tyre_life, pitstop_time):\n",
    "    \n",
    "    # set lap count\n",
    "    n = 0\n",
    "    \n",
    "    # set tyre_wear\n",
    "    tyre_wear = 0\n",
    "    \n",
    "    # create list to store lap times\n",
    "    lap_times = []\n",
    "    \n",
    "    # iterate for each lap until race complete\n",
    "    while n < N:\n",
    "        \n",
    "        # calculate the current fuel_factor\n",
    "        fuel_factor = calc_fuel_factor(N, n, max_fuel_penalty)\n",
    "        \n",
    "        # calculate the current tyre_wear\n",
    "        # allow for replacing tyres at pit stop\n",
    "        if n == (pit_lap + 1):\n",
    "            tyre_wear = 0\n",
    "        \n",
    "        # add to tyre_wear for each lap\n",
    "        else:\n",
    "            tyre_wear += fuel_factor\n",
    "        \n",
    "        # calculate the current tyre_wear_factor\n",
    "        tyre_wear_factor = calc_tyre_wear_factor(tyre_wear, max_tyre_life)\n",
    "        \n",
    "        # allow for pit stop\n",
    "        if n == pit_lap:\n",
    "            stop = pitstop_time\n",
    "        \n",
    "        else:\n",
    "            stop = 0\n",
    "        \n",
    "        # calculate lap time\n",
    "        lap_time = (nominal_lap_time * fuel_factor * tyre_wear_factor) + stop\n",
    "        \n",
    "        # append lap time to list\n",
    "        lap_times.append(lap_time)\n",
    "            \n",
    "        # increase lap count\n",
    "        n += 1\n",
    "    \n",
    "    # return total lap time and lap_times\n",
    "    return sum(lap_times), lap_times"
   ]
  },
  {
   "cell_type": "code",
   "execution_count": 16,
   "id": "a1cb0b6c",
   "metadata": {},
   "outputs": [
    {
     "data": {
      "text/plain": [
       "5376.889647095501"
      ]
     },
     "execution_count": 16,
     "metadata": {},
     "output_type": "execute_result"
    }
   ],
   "source": [
    "race_time, lap_times = race_sim(20, 40, 120, 0.1, 50, 25)\n",
    "\n",
    "race_time"
   ]
  },
  {
   "cell_type": "code",
   "execution_count": 17,
   "id": "e9d1a0a3",
   "metadata": {},
   "outputs": [
    {
     "data": {
      "text/plain": [
       "[132.063888,\n",
       " 131.95439204925,\n",
       " 131.96977963650002,\n",
       " 132.108328119,\n",
       " 132.36832470000002,\n",
       " 132.74806640625002,\n",
       " 133.24586006549998,\n",
       " 133.860022284,\n",
       " 134.58887942400003,\n",
       " 135.43076758125002,\n",
       " 136.3840325625,\n",
       " 137.44702986299998,\n",
       " 138.618124644,\n",
       " 139.89569171025,\n",
       " 141.2781154875,\n",
       " 142.76379,\n",
       " 144.351118848,\n",
       " 146.03851518525,\n",
       " 147.82440169650002,\n",
       " 149.707210575,\n",
       " 176.6853835,\n",
       " 125.70000000000002,\n",
       " 125.454775974,\n",
       " 125.31805711874998,\n",
       " 125.28828031200001,\n",
       " 125.36389180500002,\n",
       " 125.54334719999999,\n",
       " 125.82511142774997,\n",
       " 126.20765872500002,\n",
       " 126.689472612,\n",
       " 127.26904587,\n",
       " 127.94488051874998,\n",
       " 128.715487794,\n",
       " 129.579388125,\n",
       " 130.535111112,\n",
       " 131.58119550375,\n",
       " 132.716189175,\n",
       " 133.938649104,\n",
       " 135.24714135,\n",
       " 136.64024103075]"
      ]
     },
     "execution_count": 17,
     "metadata": {},
     "output_type": "execute_result"
    }
   ],
   "source": [
    "lap_times"
   ]
  },
  {
   "cell_type": "code",
   "execution_count": 18,
   "id": "eae0bb3e",
   "metadata": {},
   "outputs": [
    {
     "data": {
      "image/png": "[encoded data removed]",
      "text/plain": [
       "<Figure size 864x576 with 1 Axes>"
      ]
     },
     "metadata": {
      "needs_background": "light"
     },
     "output_type": "display_data"
    }
   ],
   "source": [
    "# plot lap times over the duration of a race\n",
    "plt.figure(figsize=(12, 8))\n",
    "\n",
    "plt.plot(range(N), lap_times)\n",
    "plt.axis([-1, 40, 120, 180])\n",
    "plt.xlabel('Lap Count')\n",
    "plt.ylabel('Lap Time')\n",
    "plt.title('Lap Times over Race Duration')\n",
    "plt.xticks(range(N), range(N))\n",
    "\n",
    "plt.show()"
   ]
  },
  {
   "cell_type": "markdown",
   "id": "e6b9787a",
   "metadata": {},
   "source": [
    "We see that initially lap time decreases slightly as the reduction in the fuel_factor more than offsets the increase in the tyre_wear_factor. At lap 3 the lap_time begins to increase. The rate of change increases as the lap count increases.\n",
    "\n",
    "Lap 20 time includes the pit stop.\n",
    "\n",
    "After the pit stop the same pattern is repeated. Initially lap time decreases before increasing again as the tyre_wear_factor increases at a greater rate than the fuel_factor decreases."
   ]
  },
  {
   "cell_type": "code",
   "execution_count": 21,
   "id": "5a96d167",
   "metadata": {},
   "outputs": [],
   "source": [
    "# define a function to iterate through possible pit_lap values and return a list of race_times\n",
    "def iterate_race(N, nominal_lap_time, max_fuel_penalty, max_tyre_life, pitstop_time):\n",
    "    \n",
    "    # create list to store race_times\n",
    "    race_time_list = []\n",
    "    \n",
    "    # iterate through possible pit_lap values\n",
    "    for i in range(N):\n",
    "        race_time, lap_times = race_sim(i, N, nominal_lap_time, max_fuel_penalty, max_tyre_life, pitstop_time)\n",
    "        \n",
    "        # append race_time to list\n",
    "        race_time_list.append(race_time)\n",
    "        \n",
    "    # return list of race_times\n",
    "    return race_time_list"
   ]
  },
  {
   "cell_type": "code",
   "execution_count": 22,
   "id": "f61925a8",
   "metadata": {},
   "outputs": [],
   "source": [
    "race_time_list = iterate_race(40, 120, 0.1, 50, 25)"
   ]
  },
  {
   "cell_type": "code",
   "execution_count": 23,
   "id": "6eddda20",
   "metadata": {},
   "outputs": [
    {
     "data": {
      "text/plain": [
       "[6123.528988940499,\n",
       " 6040.40182184275,\n",
       " 5962.2892577785,\n",
       " 5889.158646275499,\n",
       " 5820.9774092755,\n",
       " 5757.71304114175,\n",
       " 5699.3331086665,\n",
       " 5645.8052510785,\n",
       " 5597.097180050501,\n",
       " 5553.176679706748,\n",
       " 5514.011606630502,\n",
       " 5479.569889871499,\n",
       " 5449.8195309535,\n",
       " 5424.728603881749,\n",
       " 5404.2652551505,\n",
       " 5388.397703750501,\n",
       " 5377.0942411765,\n",
       " 5370.32323143475,\n",
       " 5368.053111050502,\n",
       " 5370.252389075501,\n",
       " 5376.889647095501,\n",
       " 5387.93353923775,\n",
       " 5403.352792178501,\n",
       " 5423.1162051505,\n",
       " 5447.192649950499,\n",
       " 5475.551070946751,\n",
       " 5508.160485086501,\n",
       " 5544.989981903502,\n",
       " 5586.0087235255005,\n",
       " 5631.18594468175,\n",
       " 5680.490952710501,\n",
       " 5733.893127566502,\n",
       " 5791.361921828501,\n",
       " 5852.866860706751,\n",
       " 5918.377542050501,\n",
       " 5987.863636355501,\n",
       " 6061.2948867715,\n",
       " 6138.641109109751,\n",
       " 6219.872191850501,\n",
       " 6304.958096150501]"
      ]
     },
     "execution_count": 23,
     "metadata": {},
     "output_type": "execute_result"
    }
   ],
   "source": [
    "race_time_list"
   ]
  },
  {
   "cell_type": "code",
   "execution_count": 24,
   "id": "cea2a2ce",
   "metadata": {},
   "outputs": [
    {
     "data": {
      "image/png": "[encoded data removed]",
      "text/plain": [
       "<Figure size 864x576 with 1 Axes>"
      ]
     },
     "metadata": {
      "needs_background": "light"
     },
     "output_type": "display_data"
    }
   ],
   "source": [
    "# plot race times for different pit_lap values\n",
    "plt.figure(figsize=(12, 8))\n",
    "\n",
    "plt.bar(range(N), race_time_list)\n",
    "plt.axis([-1, 40, 5250, 6500])\n",
    "plt.xlabel('Pit Lap')\n",
    "plt.ylabel('Race Time')\n",
    "plt.title('Race Times for different Pit Lap Values')\n",
    "plt.xticks(range(N), range(N))\n",
    "\n",
    "plt.show()"
   ]
  },
  {
   "cell_type": "markdown",
   "id": "ee74eb2b",
   "metadata": {},
   "source": [
    "We see the optimum lap for the pit stop is after 18 laps are complete (so on the ninetenth lap) which roughly corresponds to the intuitive expectation. As tyre wear increases at an increasing rate limiting the length of each stint to about 20 laps is the best solution. The optimal solution is actually a lap earlier than the midpoint of the race due to the effect of the fuel_factor on tyre wear.\n",
    "\n",
    "The penalty for stopping a lap earlier or a lap later is only approximately 2 seconds."
   ]
  },
  {
   "cell_type": "markdown",
   "id": "3a213a2d",
   "metadata": {},
   "source": [
    "To investigate whether the other parameters have an effect on the optimal pit lap we can try different values for max_fuel_penalty and max_tyre_life. "
   ]
  },
  {
   "cell_type": "code",
   "execution_count": 27,
   "id": "698d544d",
   "metadata": {},
   "outputs": [],
   "source": [
    "# iterate for different max_fuel_penalty and max_tyre_life values\n",
    "\n",
    "# create a dictionary to store optimum pit_lap for each iteration\n",
    "opt_pit_lap_dict = {}\n",
    "\n",
    "# iterate through list of max_fuel_penalty\n",
    "for fuel_pen in [0.1, 0.2, 0.3, 0.4, 0.5]:\n",
    "    \n",
    "    # create list to store opt_pit_lap for each fuel_pen value\n",
    "    opt_pit_lap_list = []\n",
    "    \n",
    "    # iterate through list of max_tyre_life\n",
    "    for tyre_life in [20, 30, 40, 50, 60, 70, 80]:\n",
    "        \n",
    "        # run iteration for each pit_lap value\n",
    "        race_time_list = iterate_race(40, 120, fuel_pen, tyre_life, 25)\n",
    "        \n",
    "        # save index of optimum pit_lap / minimum race time\n",
    "        opt_pit_lap = race_time_list.index(min(race_time_list))\n",
    "        \n",
    "        # append opt_pit_lap to list\n",
    "        opt_pit_lap_list.append(opt_pit_lap)\n",
    "        \n",
    "    # add opt_pit_lap_list to opt_pit_lap_dict\n",
    "    opt_pit_lap_dict[fuel_pen] = opt_pit_lap_list"
   ]
  },
  {
   "cell_type": "code",
   "execution_count": 67,
   "id": "9aa7d15a",
   "metadata": {},
   "outputs": [
    {
     "data": {
      "image/png": "[encoded data removed]",
      "text/plain": [
       "<Figure size 432x288 with 1 Axes>"
      ]
     },
     "metadata": {
      "needs_background": "light"
     },
     "output_type": "display_data"
    }
   ],
   "source": [
    "# plot results as a table\n",
    "fig, ax = plt.subplots()\n",
    "\n",
    "ax.set_axis_off()\n",
    "table = ax.table(cellText=list(opt_pit_lap_dict.values()),\n",
    "                 rowLabels=[0.1, 0.2, 0.3, 0.4, 0.5],\n",
    "                 colLabels=[20, 30, 40, 50, 60, 70, 80],\n",
    "                 rowColours=['palegreen'] * 5,\n",
    "                 colColours=['palegreen'] * 7,\n",
    "                 colWidths=[0.1] * 7,\n",
    "                 fontsize=5,\n",
    "                 cellLoc='center',\n",
    "                 loc='upper left')\n",
    "\n",
    "ax.set_title('Optimal Pitstop Lap as Fuel Penalty / Tyre Life Varies')\n",
    "table.scale(3, 3)\n",
    "\n",
    "plt.show()"
   ]
  },
  {
   "cell_type": "markdown",
   "id": "1a748955",
   "metadata": {},
   "source": [
    "We see that as the max_fuel_penalty increases the optimal solution is to stop earlier to change tyres. The increased tyre wear associated with a high fuel load makes it advantageous to change tyres sooner. \n",
    "\n",
    "Also we see that max_tyre_life does not affect the optimal strategy."
   ]
  },
  {
   "cell_type": "markdown",
   "id": "c4a4bd9d",
   "metadata": {},
   "source": [
    "Notes on model\n",
    "\n",
    "Possible developments and improvements"
   ]
  }
 ],
 "metadata": {
  "kernelspec": {
   "display_name": "Python 3 (ipykernel)",
   "language": "python",
   "name": "python3"
  },
  "language_info": {
   "codemirror_mode": {
    "name": "ipython",
    "version": 3
   },
   "file_extension": ".py",
   "mimetype": "text/x-python",
   "name": "python",
   "nbconvert_exporter": "python",
   "pygments_lexer": "ipython3",
   "version": "3.9.0"
  }
 },
 "nbformat": 4,
 "nbformat_minor": 5
}
